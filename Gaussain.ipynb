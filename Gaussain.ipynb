{
  "nbformat": 4,
  "nbformat_minor": 2,
  "metadata": {
    "colab": {
      "name": "Inverse.ipynb",
      "provenance": []
    },
    "kernelspec": {
      "name": "python3",
      "display_name": "Python 3.9.5 64-bit"
    },
    "language_info": {
      "name": "python",
      "version": "3.9.5",
      "mimetype": "text/x-python",
      "codemirror_mode": {
        "name": "ipython",
        "version": 3
      },
      "pygments_lexer": "ipython3",
      "nbconvert_exporter": "python",
      "file_extension": ".py"
    },
    "interpreter": {
      "hash": "a12d694c3ccac42055183a0ad11e659c6a2db5c6555ad2c8919d5814fd4e404f"
    }
  },
  "cells": [
    {
      "cell_type": "markdown",
      "source": [
        "## Importing the necessary libraries"
      ],
      "metadata": {}
    },
    {
      "cell_type": "code",
      "execution_count": 2,
      "source": [
        "import numpy as np\r\n",
        "import sys\r\n",
        "import time"
      ],
      "outputs": [],
      "metadata": {
        "id": "mL1DLQIwkpDx"
      }
    },
    {
      "cell_type": "markdown",
      "source": [
        "## Creating the functions that we'll use to perform the operations"
      ],
      "metadata": {}
    },
    {
      "cell_type": "markdown",
      "source": [
        "First, we create a function to check if the given matrix is square or not. As we know, invertibility is a property exclusive only to square matrices"
      ],
      "metadata": {}
    },
    {
      "cell_type": "code",
      "execution_count": 3,
      "source": [
        "def check_inv(a):\r\n",
        "    # Checking if the number of rows is equal to number of elements in a row, i.e, the number of columns\r\n",
        "    if len(a) == len(a[0]):\r\n",
        "        print(\"Yes the matrix is square and probably invertible too\")\r\n",
        "    else:\r\n",
        "        print(\"No dumbass you can only invert a square matrix and THIS ISN'T ONE!\")"
      ],
      "outputs": [],
      "metadata": {}
    },
    {
      "cell_type": "markdown",
      "source": [
        "Now, we're gonna create our main function.\r\n",
        "\r\n",
        "It will be called to find the inverse of the SQUARE matrix."
      ],
      "metadata": {}
    },
    {
      "cell_type": "code",
      "execution_count": 4,
      "source": [
        "def inverse(x,y):\r\n",
        "\r\n",
        "    # Checking if the matrix is square or not once more\r\n",
        "    if len(x) == len(x[0]):\r\n",
        "\r\n",
        "        # Finding out the determinant of the matrix and using it to check invertibility\r\n",
        "        detm = np.linalg.det(x)\r\n",
        "        if detm == 0:\r\n",
        "            print(\"If the determinant of a matrix equals zero, it's impossible to find it's inverse.\")\r\n",
        "            print(\"And guess what Sherlock? \")\r\n",
        "            # Using the sleep timer to create dramatic effect\r\n",
        "            time.sleep(2)\r\n",
        "            sys.exit(\"This one has a determinant zero\")\r\n",
        "        elif detm != 0:\r\n",
        "\r\n",
        "            # Since it's a square matrix, the number of rows it has will be equal to it's order\r\n",
        "            n = len(x)\r\n",
        "            \r\n",
        "            # Creating a dummy matrix to fill it with values later\r\n",
        "            a = np.zeros((n,2*n))\r\n",
        "            b = np.zeros((n,n))\r\n",
        "            for q in range(n):\r\n",
        "                for e in range(n):\r\n",
        "                    # Assigning the values from the original matrix into this one\r\n",
        "                    a[q][e] = x[q][e]\r\n",
        "\r\n",
        "            # Adding that identity matrix just beside the given matrix so that operations need to be performed only once\r\n",
        "            for i in range(n):        \r\n",
        "                for j in range(n):\r\n",
        "                    if i == j:\r\n",
        "                        a[i][j+n] = 1\r\n",
        "\r\n",
        "            # Now we change all the elements to 0(except the elements on the principal diagonal)\r\n",
        "            for i in range(n):\r\n",
        "            # As we are using algorithms for the transformation, we may often encounter operations where an element will be divided by zero.\r\n",
        "            # For that reason, the elements on the principal diagonal need to be non-zero\r\n",
        "            # Checking if the elements on the principal diagonal are 0\r\n",
        "                if a[i][i] == 0.0:\r\n",
        "                    for s in range(n):\r\n",
        "                        # Checking if the same column has any non-zero value\r\n",
        "                        if a[s,i] != 0:\r\n",
        "                            # We swap the rows so as to remove the zero from the principal diagonal\r\n",
        "                            a[[s,i]] = a[[i,s]]\r\n",
        "                            break\r\n",
        "                    else:\r\n",
        "                        print(\"The matrix in not invertible\")\r\n",
        "                for j in range(n):\r\n",
        "                    if i != j:\r\n",
        "                        ratio = a[j][i]/a[i][i]\r\n",
        "\r\n",
        "                        # Converting the other elements to 0 and mimicking the same operations on the adjacent identity matrix\r\n",
        "                        for k in range(2*n):\r\n",
        "                            a[j][k] = a[j][k] - ratio * a[i][k]\r\n",
        "\r\n",
        "            # Converting the principal diagonal elements to 1\r\n",
        "            for i in range(n):\r\n",
        "                divisor = a[i][i]\r\n",
        "                for j in range(2*n):\r\n",
        "                    a[i][j] = a[i][j]/divisor + 0 # We add the 0 so as to make the output more presentable. Otherwise it often displays -0.\r\n",
        "        \r\n",
        "            # Storing only the inverted matrix\r\n",
        "            for i in range(n):\r\n",
        "                for j in range(n, 2*n):\r\n",
        "                    # The first\r\n",
        "                    b[i][j-(2*n)] = a[i][j]\r\n",
        "        c = np.dot(b, y)       \r\n",
        "            \r\n",
        "    else:\r\n",
        "        print(\"First of all, you're stupid enough to try to invert a non-square matrix\")\r\n",
        "        print(\"Secondly, if you were not sure, why didn't you check the invertibility first?\")\r\n",
        "        print(\"Don't you know that we can't find the values of the unknown variables without the inverse of this matrix?\")\r\n",
        "        sys.exit(\"Overconfident kids these days\")\r\n",
        "    return(a,b,c)\r\n"
      ],
      "outputs": [],
      "metadata": {}
    },
    {
      "cell_type": "markdown",
      "source": [
        "## Calling the inverse function on a matrix"
      ],
      "metadata": {}
    },
    {
      "cell_type": "markdown",
      "source": [
        "1. We decide the shape of the matrix\r\n",
        "2. We input the elements one by one\r\n",
        "3. We check if the matrix is square or not\r\n",
        "4. We finally find the inverse of the matrix"
      ],
      "metadata": {}
    },
    {
      "cell_type": "code",
      "execution_count": 5,
      "source": [
        "# Input for the coefficients of the equations\r\n",
        "R = int(input(\"Enter the number of equations\"))\r\n",
        "C = int(input(\"Enter the number of unknown variables\"))\r\n",
        "\r\n",
        "entries = list(map(float, input(\"Enter the elements one by one, seperated by just a space\").split()))\r\n",
        "\r\n",
        "# Input the RHS values of the equations\r\n",
        "rhs_sol = list(map(float, input(\"Enter the values in RHS of the equations one by one, seperated by just a space\").split()))\r\n",
        "\r\n",
        "# The number of RHS values must be equal to the number of equations, so let's check that\r\n",
        "# We need to check that because the minimum number of equations required to get the value of X unknown variables is also X\r\n",
        "if len(rhs_sol) != R:\r\n",
        "    sys.exit(\"Number of RHS values insufficient\")\r\n",
        "else:\r\n",
        "    matrix = np.array(entries).reshape(R,C)\r\n",
        "    rhs = np.array(rhs_sol).reshape(R)\r\n",
        "    id = np.identity(R)\r\n",
        "    \r\n",
        "    print(\"Let's first check if the matrix is square\")\r\n",
        "    check_inv(matrix)\r\n",
        "\r\n",
        "    tot_sol, inv_sol,variables = inverse(matrix, rhs)\r\n",
        "    \r\n",
        "    print(\"\\nThe obtained solution is:\")\r\n",
        "    print(tot_sol)\r\n",
        "    \r\n",
        "    print(\"\\nThe inverted matrix obtained using our function is:\")\r\n",
        "    print(inv_sol)\r\n",
        "    \r\n",
        "    # Now we check if our function works correctly or not by comapring our solution to the solution obtained by the numpy inverse function\r\n",
        "    func_solve = np.linalg.inv(matrix)\r\n",
        "    print(\"\\nThe correct solution of the inverse matrix is:\")\r\n",
        "    print(func_solve)\r\n",
        "    \r\n",
        "    print(\"\\nThe value of the unknown variables are:\")\r\n",
        "    print(variables)\r\n",
        "\r\n",
        "    # Now we check if our function was successful in finding the correct values of the unknown variables\r\n",
        "    # For this we use the numpy linear algebra solve module\r\n",
        "    print(\"\\nThe correct values of the unknown variables are:\")\r\n",
        "    print(np.linalg.solve(matrix, rhs))\r\n",
        "    \r\n",
        "    # Professor asked for a very specific format, so we join the values with an identity matrix of the same order to obtain it\r\n",
        "    print(\"\\nThe solution that Prachi's professor asked for is:\")\r\n",
        "    print(np.concatenate((id,variables.reshape(R,1)), axis = 1))"
      ],
      "outputs": [
        {
          "output_type": "error",
          "ename": "ValueError",
          "evalue": "invalid literal for int() with base 10: ''",
          "traceback": [
            "\u001b[1;31m---------------------------------------------------------------------------\u001b[0m",
            "\u001b[1;31mValueError\u001b[0m                                Traceback (most recent call last)",
            "\u001b[1;32m~\\AppData\\Local\\Temp/ipykernel_3140/26067700.py\u001b[0m in \u001b[0;36m<module>\u001b[1;34m\u001b[0m\n\u001b[0;32m      1\u001b[0m \u001b[1;31m# Input for the coefficients of the equations\u001b[0m\u001b[1;33m\u001b[0m\u001b[1;33m\u001b[0m\u001b[1;33m\u001b[0m\u001b[0m\n\u001b[1;32m----> 2\u001b[1;33m \u001b[0mR\u001b[0m \u001b[1;33m=\u001b[0m \u001b[0mint\u001b[0m\u001b[1;33m(\u001b[0m\u001b[0minput\u001b[0m\u001b[1;33m(\u001b[0m\u001b[1;34m\"Enter the number of equations\"\u001b[0m\u001b[1;33m)\u001b[0m\u001b[1;33m)\u001b[0m\u001b[1;33m\u001b[0m\u001b[1;33m\u001b[0m\u001b[0m\n\u001b[0m\u001b[0;32m      3\u001b[0m \u001b[0mC\u001b[0m \u001b[1;33m=\u001b[0m \u001b[0mint\u001b[0m\u001b[1;33m(\u001b[0m\u001b[0minput\u001b[0m\u001b[1;33m(\u001b[0m\u001b[1;34m\"Enter the number of unknown variables\"\u001b[0m\u001b[1;33m)\u001b[0m\u001b[1;33m)\u001b[0m\u001b[1;33m\u001b[0m\u001b[1;33m\u001b[0m\u001b[0m\n\u001b[0;32m      4\u001b[0m \u001b[1;33m\u001b[0m\u001b[0m\n\u001b[0;32m      5\u001b[0m \u001b[0mentries\u001b[0m \u001b[1;33m=\u001b[0m \u001b[0mlist\u001b[0m\u001b[1;33m(\u001b[0m\u001b[0mmap\u001b[0m\u001b[1;33m(\u001b[0m\u001b[0mfloat\u001b[0m\u001b[1;33m,\u001b[0m \u001b[0minput\u001b[0m\u001b[1;33m(\u001b[0m\u001b[1;34m\"Enter the elements one by one, seperated by just a space\"\u001b[0m\u001b[1;33m)\u001b[0m\u001b[1;33m.\u001b[0m\u001b[0msplit\u001b[0m\u001b[1;33m(\u001b[0m\u001b[1;33m)\u001b[0m\u001b[1;33m)\u001b[0m\u001b[1;33m)\u001b[0m\u001b[1;33m\u001b[0m\u001b[1;33m\u001b[0m\u001b[0m\n",
            "\u001b[1;31mValueError\u001b[0m: invalid literal for int() with base 10: ''"
          ]
        }
      ],
      "metadata": {}
    },
    {
      "cell_type": "markdown",
      "source": [
        "## Sample operations\r\n",
        "\r\n",
        "Now we perform the inversion on some pre-defined matrices to check the full potential of the function"
      ],
      "metadata": {}
    },
    {
      "cell_type": "markdown",
      "source": [
        "### 1.  A matrix with determinant zero"
      ],
      "metadata": {}
    },
    {
      "cell_type": "code",
      "execution_count": 6,
      "source": [
        "mat = np.array([[2,6],[1,3]])\r\n",
        "mat_tot_sol, mat_inv_sol = inverse(mat)\r\n",
        "print(mat_tot_sol)\r\n",
        "print(mat_inv_sol)"
      ],
      "outputs": [
        {
          "output_type": "error",
          "ename": "TypeError",
          "evalue": "inverse() missing 1 required positional argument: 'y'",
          "traceback": [
            "\u001b[1;31m---------------------------------------------------------------------------\u001b[0m",
            "\u001b[1;31mTypeError\u001b[0m                                 Traceback (most recent call last)",
            "\u001b[1;32m~\\AppData\\Local\\Temp/ipykernel_3140/3488022369.py\u001b[0m in \u001b[0;36m<module>\u001b[1;34m\u001b[0m\n\u001b[0;32m      1\u001b[0m \u001b[0mmat\u001b[0m \u001b[1;33m=\u001b[0m \u001b[0mnp\u001b[0m\u001b[1;33m.\u001b[0m\u001b[0marray\u001b[0m\u001b[1;33m(\u001b[0m\u001b[1;33m[\u001b[0m\u001b[1;33m[\u001b[0m\u001b[1;36m2\u001b[0m\u001b[1;33m,\u001b[0m\u001b[1;36m6\u001b[0m\u001b[1;33m]\u001b[0m\u001b[1;33m,\u001b[0m\u001b[1;33m[\u001b[0m\u001b[1;36m1\u001b[0m\u001b[1;33m,\u001b[0m\u001b[1;36m3\u001b[0m\u001b[1;33m]\u001b[0m\u001b[1;33m]\u001b[0m\u001b[1;33m)\u001b[0m\u001b[1;33m\u001b[0m\u001b[1;33m\u001b[0m\u001b[0m\n\u001b[1;32m----> 2\u001b[1;33m \u001b[0mmat_tot_sol\u001b[0m\u001b[1;33m,\u001b[0m \u001b[0mmat_inv_sol\u001b[0m \u001b[1;33m=\u001b[0m \u001b[0minverse\u001b[0m\u001b[1;33m(\u001b[0m\u001b[0mmat\u001b[0m\u001b[1;33m)\u001b[0m\u001b[1;33m\u001b[0m\u001b[1;33m\u001b[0m\u001b[0m\n\u001b[0m\u001b[0;32m      3\u001b[0m \u001b[0mprint\u001b[0m\u001b[1;33m(\u001b[0m\u001b[0mmat_tot_sol\u001b[0m\u001b[1;33m)\u001b[0m\u001b[1;33m\u001b[0m\u001b[1;33m\u001b[0m\u001b[0m\n\u001b[0;32m      4\u001b[0m \u001b[0mprint\u001b[0m\u001b[1;33m(\u001b[0m\u001b[0mmat_inv_sol\u001b[0m\u001b[1;33m)\u001b[0m\u001b[1;33m\u001b[0m\u001b[1;33m\u001b[0m\u001b[0m\n",
            "\u001b[1;31mTypeError\u001b[0m: inverse() missing 1 required positional argument: 'y'"
          ]
        }
      ],
      "metadata": {}
    },
    {
      "cell_type": "markdown",
      "source": [
        "### 2.  Non-square matrix"
      ],
      "metadata": {}
    },
    {
      "cell_type": "code",
      "execution_count": null,
      "source": [
        "non_square = np.array([[1,2,3],[4,5,9]])\r\n",
        "non_tot_sol, non_inv_sol = inverse(non_square)\r\n",
        "print(non_tot_sol)\r\n",
        "print(non_inv_sol)"
      ],
      "outputs": [
        {
          "output_type": "stream",
          "name": "stdout",
          "text": [
            "First of all, you're stupid enough to try to invert a non-square matrix\n",
            "Secondly, if you were not sure, why didn't you check the invertibility first?\n",
            "Overconfident kids these days\n"
          ]
        },
        {
          "output_type": "error",
          "ename": "UnboundLocalError",
          "evalue": "local variable 'a' referenced before assignment",
          "traceback": [
            "\u001b[1;31m---------------------------------------------------------------------------\u001b[0m",
            "\u001b[1;31mUnboundLocalError\u001b[0m                         Traceback (most recent call last)",
            "\u001b[1;32m~\\AppData\\Local\\Temp/ipykernel_10108/3071372488.py\u001b[0m in \u001b[0;36m<module>\u001b[1;34m\u001b[0m\n\u001b[0;32m      1\u001b[0m \u001b[0mnon_square\u001b[0m \u001b[1;33m=\u001b[0m \u001b[0mnp\u001b[0m\u001b[1;33m.\u001b[0m\u001b[0marray\u001b[0m\u001b[1;33m(\u001b[0m\u001b[1;33m[\u001b[0m\u001b[1;33m[\u001b[0m\u001b[1;36m1\u001b[0m\u001b[1;33m,\u001b[0m\u001b[1;36m2\u001b[0m\u001b[1;33m,\u001b[0m\u001b[1;36m3\u001b[0m\u001b[1;33m]\u001b[0m\u001b[1;33m,\u001b[0m\u001b[1;33m[\u001b[0m\u001b[1;36m4\u001b[0m\u001b[1;33m,\u001b[0m\u001b[1;36m5\u001b[0m\u001b[1;33m,\u001b[0m\u001b[1;36m9\u001b[0m\u001b[1;33m]\u001b[0m\u001b[1;33m]\u001b[0m\u001b[1;33m)\u001b[0m\u001b[1;33m\u001b[0m\u001b[1;33m\u001b[0m\u001b[0m\n\u001b[1;32m----> 2\u001b[1;33m \u001b[0mnon_tot_sol\u001b[0m\u001b[1;33m,\u001b[0m \u001b[0mnon_inv_sol\u001b[0m \u001b[1;33m=\u001b[0m \u001b[0minverse\u001b[0m\u001b[1;33m(\u001b[0m\u001b[0mnon_square\u001b[0m\u001b[1;33m)\u001b[0m\u001b[1;33m\u001b[0m\u001b[1;33m\u001b[0m\u001b[0m\n\u001b[0m\u001b[0;32m      3\u001b[0m \u001b[0mprint\u001b[0m\u001b[1;33m(\u001b[0m\u001b[0mnon_tot_sol\u001b[0m\u001b[1;33m)\u001b[0m\u001b[1;33m\u001b[0m\u001b[1;33m\u001b[0m\u001b[0m\n\u001b[0;32m      4\u001b[0m \u001b[0mprint\u001b[0m\u001b[1;33m(\u001b[0m\u001b[0mnon_inv_sol\u001b[0m\u001b[1;33m)\u001b[0m\u001b[1;33m\u001b[0m\u001b[1;33m\u001b[0m\u001b[0m\n",
            "\u001b[1;32m~\\AppData\\Local\\Temp/ipykernel_10108/2754161312.py\u001b[0m in \u001b[0;36minverse\u001b[1;34m(x)\u001b[0m\n\u001b[0;32m     71\u001b[0m         \u001b[0mprint\u001b[0m\u001b[1;33m(\u001b[0m\u001b[1;34m\"Secondly, if you were not sure, why didn't you check the invertibility first?\"\u001b[0m\u001b[1;33m)\u001b[0m\u001b[1;33m\u001b[0m\u001b[1;33m\u001b[0m\u001b[0m\n\u001b[0;32m     72\u001b[0m         \u001b[0mprint\u001b[0m\u001b[1;33m(\u001b[0m\u001b[1;34m\"Overconfident kids these days\"\u001b[0m\u001b[1;33m)\u001b[0m\u001b[1;33m\u001b[0m\u001b[1;33m\u001b[0m\u001b[0m\n\u001b[1;32m---> 73\u001b[1;33m     \u001b[1;32mreturn\u001b[0m\u001b[1;33m(\u001b[0m\u001b[0ma\u001b[0m\u001b[1;33m,\u001b[0m\u001b[0mb\u001b[0m\u001b[1;33m)\u001b[0m\u001b[1;33m\u001b[0m\u001b[1;33m\u001b[0m\u001b[0m\n\u001b[0m",
            "\u001b[1;31mUnboundLocalError\u001b[0m: local variable 'a' referenced before assignment"
          ]
        }
      ],
      "metadata": {}
    }
  ]
}